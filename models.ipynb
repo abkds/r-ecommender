{
 "cells": [
  {
   "cell_type": "code",
   "execution_count": 1,
   "metadata": {},
   "outputs": [],
   "source": [
    "import implicit\n",
    "import numpy as np\n",
    "from tqdm import tqdm_notebook\n",
    "import pandas as pd\n",
    "import csv \n",
    "import scipy\n",
    "from scipy.sparse import coo_matrix\n",
    "from scipy.sparse.linalg import svds\n",
    "from implicit.nearest_neighbours import bm25_weight\n",
    "from implicit import alternating_least_squares\n",
    "import umap"
   ]
  },
  {
   "cell_type": "code",
   "execution_count": 2,
   "metadata": {},
   "outputs": [],
   "source": [
    "data = []\n",
    "with open('final_interactions_count') as csvfile:\n",
    "    datareader = csv.reader(csvfile, delimiter=' ')\n",
    "    for subreddit, user, comments, _ in datareader:\n",
    "        data.append([user, subreddit, int(comments)])"
   ]
  },
  {
   "cell_type": "code",
   "execution_count": 3,
   "metadata": {},
   "outputs": [],
   "source": [
    "data = pd.DataFrame.from_records(data)"
   ]
  },
  {
   "cell_type": "code",
   "execution_count": 4,
   "metadata": {},
   "outputs": [],
   "source": [
    "data.columns = ['user', 'subreddit', 'comments']"
   ]
  },
  {
   "cell_type": "code",
   "execution_count": 5,
   "metadata": {},
   "outputs": [],
   "source": [
    "data['user'] = data['user'].astype(\"category\")\n",
    "data['subreddit'] = data['subreddit'].astype(\"category\")"
   ]
  },
  {
   "cell_type": "code",
   "execution_count": 6,
   "metadata": {},
   "outputs": [],
   "source": [
    "# create a sparse matrix of all the artist/user/play triples\n",
    "comments = coo_matrix((data['comments'].astype(float), \n",
    "                   (data['subreddit'].cat.codes, \n",
    "                    data['user'].cat.codes)))"
   ]
  },
  {
   "cell_type": "code",
   "execution_count": 7,
   "metadata": {},
   "outputs": [],
   "source": [
    "csr_comments = comments.tocsr()"
   ]
  },
  {
   "cell_type": "code",
   "execution_count": 8,
   "metadata": {},
   "outputs": [
    {
     "data": {
      "text/plain": [
       "1537767"
      ]
     },
     "execution_count": 8,
     "metadata": {},
     "output_type": "execute_result"
    }
   ],
   "source": [
    "csr_comments.nnz"
   ]
  },
  {
   "cell_type": "markdown",
   "metadata": {},
   "source": [
    "### Latent Semantic Analysis"
   ]
  },
  {
   "cell_type": "code",
   "execution_count": 9,
   "metadata": {},
   "outputs": [],
   "source": [
    "# toggle this variable if you want to recalculate the als factors\n",
    "read_als_factors_from_file = False"
   ]
  },
  {
   "cell_type": "code",
   "execution_count": 10,
   "metadata": {},
   "outputs": [
    {
     "name": "stderr",
     "output_type": "stream",
     "text": [
      "This method is deprecated. Please use the AlternatingLeastSquares class instead\n",
      "WARNING:root:OpenBLAS detected. Its highly recommend to set the environment variable 'export OPENBLAS_NUM_THREADS=1' to disable its internal multithreading\n",
      "100%|██████████| 15.0/15 [00:14<00:00,  1.29it/s]\n"
     ]
    }
   ],
   "source": [
    "if read_als_factors_from_file:\n",
    "    subreddit_factors = np.load('subreddit_factors_als.npy')\n",
    "    user_factors = np.load('user_factors_als.npy')\n",
    "else:\n",
    "    subreddit_factors, user_factors = alternating_least_squares(bm25_weight(comments), 20)"
   ]
  },
  {
   "cell_type": "code",
   "execution_count": 11,
   "metadata": {},
   "outputs": [],
   "source": [
    "class TopRelated(object):\n",
    "    def __init__(self, subreddit_factors):\n",
    "        norms = np.linalg.norm(subreddit_factors, axis=-1)\n",
    "        self.factors = subreddit_factors / norms[:, np.newaxis]\n",
    "        self.subreddits = data['subreddit'].cat.categories.array.to_numpy()\n",
    "\n",
    "    def get_related(self, subreddit, N=10):\n",
    "        subredditid = np.where(self.subreddits == subreddit)[0][0]\n",
    "        scores = self.factors.dot(self.factors[subredditid])\n",
    "        best = np.argpartition(scores, -N)[-N:]\n",
    "        best_ = [self.subreddits[i] for i in best]\n",
    "        return sorted(zip(best_, scores[best]), key=lambda x: -x[1])"
   ]
  },
  {
   "cell_type": "code",
   "execution_count": 12,
   "metadata": {},
   "outputs": [],
   "source": [
    "top_related = TopRelated(subreddit_factors)"
   ]
  },
  {
   "cell_type": "code",
   "execution_count": 13,
   "metadata": {},
   "outputs": [
    {
     "data": {
      "text/plain": [
       "[('OnePiece', 0.99999994),\n",
       " ('Naruto', 0.9689143),\n",
       " ('allblue', 0.96665776),\n",
       " ('bleach', 0.96390015),\n",
       " ('Feels', 0.9556872),\n",
       " ('manga', 0.94707495),\n",
       " ('Collabcomics', 0.9412527),\n",
       " ('whowouldwin', 0.9372169),\n",
       " ('anime', 0.9361908),\n",
       " ('doujinshi', 0.93373656)]"
      ]
     },
     "execution_count": 13,
     "metadata": {},
     "output_type": "execute_result"
    }
   ],
   "source": [
    "top_related.get_related('OnePiece')"
   ]
  },
  {
   "cell_type": "code",
   "execution_count": 14,
   "metadata": {},
   "outputs": [
    {
     "data": {
      "text/plain": [
       "(14842, 20)"
      ]
     },
     "execution_count": 14,
     "metadata": {},
     "output_type": "execute_result"
    }
   ],
   "source": [
    "subreddit_factors.shape"
   ]
  },
  {
   "cell_type": "code",
   "execution_count": 15,
   "metadata": {},
   "outputs": [
    {
     "data": {
      "text/plain": [
       "(14842, 2)"
      ]
     },
     "execution_count": 15,
     "metadata": {},
     "output_type": "execute_result"
    }
   ],
   "source": [
    "subreddits_embedded = umap.UMAP().fit_transform(subreddit_factors)\n",
    "subreddits_embedded.shape"
   ]
  },
  {
   "cell_type": "code",
   "execution_count": 16,
   "metadata": {},
   "outputs": [
    {
     "data": {
      "text/plain": [
       "array([[1.0131747, 5.303012 ],\n",
       "       [2.208454 , 3.8350732],\n",
       "       [6.189175 , 1.7819154],\n",
       "       ...,\n",
       "       [6.3854785, 2.2662826],\n",
       "       [7.953953 , 0.7833559],\n",
       "       [2.5185633, 1.8170209]], dtype=float32)"
      ]
     },
     "execution_count": 16,
     "metadata": {},
     "output_type": "execute_result"
    }
   ],
   "source": [
    "subreddits_embedded"
   ]
  },
  {
   "cell_type": "code",
   "execution_count": 17,
   "metadata": {},
   "outputs": [],
   "source": [
    "subreddits = data['subreddit'].cat.categories.array.to_numpy()"
   ]
  },
  {
   "cell_type": "code",
   "execution_count": 18,
   "metadata": {},
   "outputs": [],
   "source": [
    "import random\n",
    "\n",
    "indices = random.sample(range(len(subreddits)), 1000)"
   ]
  },
  {
   "cell_type": "code",
   "execution_count": 19,
   "metadata": {},
   "outputs": [],
   "source": [
    "sampled_subreddits = subreddits[indices]\n",
    "sampled_subreddits_embedded = subreddits_embedded[indices]"
   ]
  },
  {
   "cell_type": "code",
   "execution_count": 20,
   "metadata": {},
   "outputs": [
    {
     "name": "stdout",
     "output_type": "stream",
     "text": [
      "High five! You successfully sent some data to your account on plotly. View your plot in your browser at https://plot.ly/~abkds/0 or inside your plot.ly account where it is named 'basic-scatter'\n"
     ]
    },
    {
     "data": {
      "text/html": [
       "<iframe id=\"igraph\" scrolling=\"no\" style=\"border:none;\" seamless=\"seamless\" src=\"https://plot.ly/~abkds/0.embed\" height=\"525px\" width=\"100%\"></iframe>"
      ],
      "text/plain": [
       "<plotly.tools.PlotlyDisplay object>"
      ]
     },
     "execution_count": 20,
     "metadata": {},
     "output_type": "execute_result"
    }
   ],
   "source": [
    "import plotly\n",
    "import plotly.plotly as py\n",
    "import plotly.graph_objs as go\n",
    "\n",
    "plotly.tools.set_credentials_file(username='abkds', api_key='KKuXHMUKu7EHg9kIZWrl')\n",
    "\n",
    "\n",
    "# Create random data with numpy\n",
    "import numpy as np\n",
    "\n",
    "N = 500\n",
    "xs = sampled_subreddits_embedded[:, 0]\n",
    "ys = sampled_subreddits_embedded[:, 1]\n",
    "\n",
    "# Create a trace\n",
    "trace = go.Scatter(\n",
    "    x = xs,\n",
    "    y = ys,\n",
    "    mode='markers+text',\n",
    "    text=sampled_subreddits\n",
    ")\n",
    "\n",
    "data_ = [trace]\n",
    "\n",
    "# Plot and embed in ipython notebook!\n",
    "py.iplot(data_, filename='basic-scatter')\n",
    "\n",
    "# or plot with: plot_url = py.plot(data, filename='basic-line')"
   ]
  },
  {
   "cell_type": "markdown",
   "metadata": {},
   "source": [
    "### Bayesian Personalized Ranking"
   ]
  },
  {
   "cell_type": "code",
   "execution_count": 21,
   "metadata": {},
   "outputs": [],
   "source": [
    "from implicit.bpr import BayesianPersonalizedRanking\n",
    "\n",
    "params = {\"factors\": 63}"
   ]
  },
  {
   "cell_type": "code",
   "execution_count": 22,
   "metadata": {},
   "outputs": [],
   "source": [
    "import logging\n",
    "import tqdm\n",
    "import time\n",
    "import codecs"
   ]
  },
  {
   "cell_type": "code",
   "execution_count": 23,
   "metadata": {},
   "outputs": [],
   "source": [
    "model = BayesianPersonalizedRanking(**params)"
   ]
  },
  {
   "cell_type": "code",
   "execution_count": 24,
   "metadata": {},
   "outputs": [],
   "source": [
    "model_name = 'bpr'\n",
    "output_filename = 'subreddits_recs_bpr'"
   ]
  },
  {
   "cell_type": "code",
   "execution_count": 25,
   "metadata": {},
   "outputs": [
    {
     "name": "stderr",
     "output_type": "stream",
     "text": [
      "100%|██████████| 100/100 [00:33<00:00,  2.98it/s, correct=97.91%, skipped=4.55%]\n"
     ]
    }
   ],
   "source": [
    "model.fit(comments)"
   ]
  },
  {
   "cell_type": "code",
   "execution_count": 26,
   "metadata": {},
   "outputs": [],
   "source": [
    "def bpr_related_subreddits(subreddit):\n",
    "    found = np.where(subreddits == subreddit)\n",
    "    if len(found[0]) == 0:\n",
    "        raise ValueError(\"Subreddit doesn't exist in the dataset.\")\n",
    "    _id = found[0][0]\n",
    "    return [(subreddits[i], v) for i, v in model.similar_items(_id)]"
   ]
  },
  {
   "cell_type": "code",
   "execution_count": 27,
   "metadata": {},
   "outputs": [
    {
     "data": {
      "text/plain": [
       "[('dogs', 3.2827873),\n",
       " ('Dogtraining', 2.7844837),\n",
       " ('puppy101', 2.5864434),\n",
       " ('WiggleButts', 2.4180102),\n",
       " ('Paleo', 2.4142845),\n",
       " ('EatCheapAndHealthy', 2.3868768),\n",
       " ('germanshepherds', 2.3686364),\n",
       " ('AskVet', 2.3481765),\n",
       " ('Pets', 2.341671),\n",
       " ('TheGirlSurvivalGuide', 2.3099918)]"
      ]
     },
     "execution_count": 27,
     "metadata": {},
     "output_type": "execute_result"
    }
   ],
   "source": [
    "bpr_related_subreddits('dogs')"
   ]
  },
  {
   "cell_type": "code",
   "execution_count": 28,
   "metadata": {},
   "outputs": [],
   "source": [
    "users = data['user'].cat.categories.array.to_numpy()"
   ]
  },
  {
   "cell_type": "code",
   "execution_count": 31,
   "metadata": {},
   "outputs": [],
   "source": [
    "write_bpr_recommendations = False"
   ]
  },
  {
   "cell_type": "code",
   "execution_count": 32,
   "metadata": {},
   "outputs": [
    {
     "data": {
      "application/vnd.jupyter.widget-view+json": {
       "model_id": "9a1b4f7e9a33434ea78449a7c34eea2c",
       "version_major": 2,
       "version_minor": 0
      },
      "text/plain": [
       "HBox(children=(IntProgress(value=0, max=735834), HTML(value='')))"
      ]
     },
     "metadata": {},
     "output_type": "display_data"
    },
    {
     "name": "stdout",
     "output_type": "stream",
     "text": [
      "\n"
     ]
    }
   ],
   "source": [
    "user_comments = comments.T.tocsr()\n",
    "if write_bpr_recommendations:\n",
    "    # generate recommendations for each user and write out to a file\n",
    "    with tqdm.tqdm_notebook(total=len(users)) as progress:\n",
    "        with codecs.open(output_filename, \"w\", \"utf8\") as o:\n",
    "            for userid, username in enumerate(users):\n",
    "                for subredditid, score in model.recommend(userid, user_comments):\n",
    "                    o.write(\"%s\\t%s\\t%s\\n\" % (username, subreddits[subredditid], score))\n",
    "                progress.update(1)"
   ]
  },
  {
   "cell_type": "markdown",
   "metadata": {},
   "source": [
    "### Sample user recommendations\n",
    "\n",
    "We went through the user 'xkcd_transciber' list of subreddits, where he/she commented. Taking a view of the kind of subreddits followed by the user we see that the predictions are good. This is just one sample, we are saving the recommendations for all users in a file and will also write the AUC score function for getting the exact scores for the generated recommendations."
   ]
  },
  {
   "cell_type": "code",
   "execution_count": 33,
   "metadata": {},
   "outputs": [],
   "source": [
    "def recommend_for_user(username):\n",
    "    sample_user_id = np.where(users == username)[0][0]\n",
    "    return [(subreddits[i], v) for i, v in model.recommend(sample_user_id, user_comments)]"
   ]
  },
  {
   "cell_type": "code",
   "execution_count": 34,
   "metadata": {},
   "outputs": [
    {
     "data": {
      "text/plain": [
       "[('dwarffortress', 3.7335882),\n",
       " ('badphilosophy', 3.1564484),\n",
       " ('teslore', 3.1290364),\n",
       " ('Morrowind', 2.9986079),\n",
       " ('mountandblade', 2.9104137),\n",
       " ('Anarchism', 2.8900142),\n",
       " ('KerbalAcademy', 2.8693864),\n",
       " ('HPMOR', 2.8496687),\n",
       " ('shittykickstarters', 2.8411458),\n",
       " ('askphilosophy', 2.7882056)]"
      ]
     },
     "execution_count": 34,
     "metadata": {},
     "output_type": "execute_result"
    }
   ],
   "source": [
    "recommend_for_user('xkcd_transcriber')"
   ]
  },
  {
   "cell_type": "code",
   "execution_count": 35,
   "metadata": {},
   "outputs": [],
   "source": [
    "def subreddits_interacted_by_user(username):\n",
    "    sample_user_id = np.where(users == username)[0][0]\n",
    "    _idlist =  comments.getcol(sample_user_id)\n",
    "    return [subreddits[idx] for idx, i in enumerate(_idlist.toarray()) if i != 0.0]"
   ]
  },
  {
   "cell_type": "code",
   "execution_count": 36,
   "metadata": {},
   "outputs": [
    {
     "data": {
      "text/plain": [
       "['Planetside',\n",
       " 'tifu',\n",
       " 'homestuck',\n",
       " 'Minecraft',\n",
       " 'worldbuilding',\n",
       " 'italy',\n",
       " 'AgainstGamerGate',\n",
       " 'firefly',\n",
       " 'tf2',\n",
       " 'MLPLounge',\n",
       " 'Futurology',\n",
       " 'sysadmin',\n",
       " 'GlobalOffensive',\n",
       " 'argentina',\n",
       " 'india',\n",
       " 'RandomActsOfGaming',\n",
       " 'books',\n",
       " 'worldnews',\n",
       " 'boardgames',\n",
       " 'CasualConversation']"
      ]
     },
     "execution_count": 36,
     "metadata": {},
     "output_type": "execute_result"
    }
   ],
   "source": [
    "# sample 50 reddits with which xkcd_transcriber has interacted with.\n",
    "\n",
    "random.sample(subreddits_interacted_by_user('xkcd_transcriber'), 20)"
   ]
  },
  {
   "cell_type": "code",
   "execution_count": 37,
   "metadata": {},
   "outputs": [
    {
     "data": {
      "application/vnd.jupyter.widget-view+json": {
       "model_id": "c90c3113717242259a721ee69ba28cd9",
       "version_major": 2,
       "version_minor": 0
      },
      "text/plain": [
       "HBox(children=(IntProgress(value=1, bar_style='info', max=1), HTML(value='')))"
      ]
     },
     "metadata": {},
     "output_type": "display_data"
    },
    {
     "name": "stdout",
     "output_type": "stream",
     "text": [
      "\n"
     ]
    },
    {
     "data": {
      "application/vnd.jupyter.widget-view+json": {
       "model_id": "2f020d0befba451185505eb7808c9fe3",
       "version_major": 2,
       "version_minor": 0
      },
      "text/plain": [
       "HBox(children=(IntProgress(value=0, max=735834), HTML(value='')))"
      ]
     },
     "metadata": {},
     "output_type": "display_data"
    },
    {
     "name": "stdout",
     "output_type": "stream",
     "text": [
      "\n"
     ]
    }
   ],
   "source": [
    "from collections import defaultdict\n",
    "# set seed to get the same train and test set\n",
    "np.random.seed(42)\n",
    "\n",
    "filename = 'final_interactions_count'\n",
    "train_filename = 'interactions_5'\n",
    "\n",
    "def create_dataset():\n",
    "    data = defaultdict(lambda: [])\n",
    "    with open(filename) as csvfile:\n",
    "        datareader = csv.reader(csvfile, delimiter=' ')        \n",
    "        for subreddit, user, comments, _ in tqdm.tqdm_notebook(datareader):\n",
    "            data[user].append((subreddit, comments))\n",
    "    \n",
    "\n",
    "    f_train = open(train_filename, 'w')\n",
    "    \n",
    "    for user, items in tqdm.tqdm_notebook(data.items()):\n",
    "        np.random.shuffle(items)\n",
    "        if len(items) >= 2:\n",
    "            for item in items:\n",
    "                line = ' '.join(list(map(str, [item[0], user, item[1]]))) + '\\n'\n",
    "                f_train.write(line)\n",
    "    \n",
    "    f_train.close()\n",
    "        \n",
    "create_dataset()"
   ]
  },
  {
   "cell_type": "code",
   "execution_count": 2,
   "metadata": {},
   "outputs": [],
   "source": [
    "data = []\n",
    "with open('interactions_5') as csvfile:\n",
    "    datareader = csv.reader(csvfile, delimiter=' ')\n",
    "    for subreddit, user, comments in datareader:\n",
    "        data.append([user, subreddit, 1])"
   ]
  },
  {
   "cell_type": "code",
   "execution_count": 3,
   "metadata": {},
   "outputs": [
    {
     "data": {
      "text/plain": [
       "1087036"
      ]
     },
     "execution_count": 3,
     "metadata": {},
     "output_type": "execute_result"
    }
   ],
   "source": [
    "len(data)"
   ]
  },
  {
   "cell_type": "code",
   "execution_count": 4,
   "metadata": {},
   "outputs": [],
   "source": [
    "data = pd.DataFrame.from_records(data)\n",
    "data.columns = ['user', 'subreddit', 'comments']\n",
    "\n",
    "data['user'] = data['user'].astype(\"category\")\n",
    "data['subreddit'] = data['subreddit'].astype(\"category\")"
   ]
  },
  {
   "cell_type": "code",
   "execution_count": 5,
   "metadata": {},
   "outputs": [],
   "source": [
    "# create a sparse matrix of all the artist/user/play triples\n",
    "comments = coo_matrix((data['comments'].astype(float), \n",
    "                   (data['subreddit'].cat.codes, \n",
    "                    data['user'].cat.codes)))"
   ]
  },
  {
   "cell_type": "code",
   "execution_count": 6,
   "metadata": {},
   "outputs": [
    {
     "data": {
      "text/plain": [
       "<13500x285103 sparse matrix of type '<class 'numpy.float64'>'\n",
       "\twith 1087036 stored elements in COOrdinate format>"
      ]
     },
     "execution_count": 6,
     "metadata": {},
     "output_type": "execute_result"
    }
   ],
   "source": [
    "comments"
   ]
  },
  {
   "cell_type": "code",
   "execution_count": 7,
   "metadata": {},
   "outputs": [],
   "source": [
    "subreddits = data['subreddit'].cat.categories.array.to_numpy()\n",
    "users = data['user'].cat.categories.array.to_numpy()"
   ]
  },
  {
   "cell_type": "code",
   "execution_count": 8,
   "metadata": {
    "scrolled": true
   },
   "outputs": [
    {
     "name": "stdout",
     "output_type": "stream",
     "text": [
      "Number of users for BPR model: 285103\n",
      "Number of subreddits for BPR model: 13500\n"
     ]
    }
   ],
   "source": [
    "print('Number of users for BPR model: %s' % len(users))\n",
    "print('Number of subreddits for BPR model: %s' % len(subreddits))"
   ]
  },
  {
   "cell_type": "markdown",
   "metadata": {},
   "source": [
    "Create the index and the reverse index for the users and subreddits"
   ]
  },
  {
   "cell_type": "code",
   "execution_count": 9,
   "metadata": {},
   "outputs": [],
   "source": [
    "from utils import *"
   ]
  },
  {
   "cell_type": "code",
   "execution_count": 10,
   "metadata": {},
   "outputs": [],
   "source": [
    "subreddits_index = item_to_index(subreddits)\n",
    "users_index = item_to_index(users)"
   ]
  },
  {
   "cell_type": "markdown",
   "metadata": {},
   "source": [
    "### Extracting test set\n",
    "\n",
    "We will pluck out the test set, as per the strategy given in the paper [BPR: Bayesian Personalized Ranking from Implicit Feedback](https://arxiv.org/pdf/1205.2618.pdf), section 6.2 "
   ]
  },
  {
   "cell_type": "code",
   "execution_count": 11,
   "metadata": {},
   "outputs": [],
   "source": [
    "def train_test_split(coo_comments):\n",
    "    \"\"\"\n",
    "    Omits random user subreddit interactions, zeros them out \n",
    "    and appends them to the test list.\n",
    "    \"\"\"\n",
    "    csr_comments = coo_comments.tocsr()\n",
    "    \n",
    "    data = defaultdict(lambda: [])\n",
    "    with open('interactions_5') as csvfile:\n",
    "        datareader = csv.reader(csvfile, delimiter=' ')        \n",
    "        for subreddit, user, comments in tqdm.tqdm_notebook(datareader):\n",
    "            data[user].append((subreddit, comments))\n",
    "    \n",
    "    train_set = []\n",
    "    test_set = []\n",
    "    \n",
    "    for user, items in tqdm.tqdm_notebook(data.items()):\n",
    "        np.random.shuffle(items)\n",
    "        test_item = items[0]\n",
    "        test_comments = items[1]\n",
    "        \n",
    "        test_subreddit = test_item[0]\n",
    "        # zero out a user item interaction\n",
    "        csr_comments[subreddits_index[test_subreddit], users_index[user]] = 0\n",
    "        \n",
    "        test_set.append([test_subreddit, user, int(comments)])\n",
    "        \n",
    "        for item in items[1:]:\n",
    "            train_set.append([item[0], user, int(item[1])])\n",
    "        \n",
    "    csr_comments.eliminate_zeros()\n",
    "    return train_set, test_set, csr_comments.tocoo()"
   ]
  },
  {
   "cell_type": "code",
   "execution_count": 12,
   "metadata": {},
   "outputs": [
    {
     "data": {
      "application/vnd.jupyter.widget-view+json": {
       "model_id": "ce1c954c01244483ad796996b0a73575",
       "version_major": 2,
       "version_minor": 0
      },
      "text/plain": [
       "HBox(children=(IntProgress(value=1, bar_style='info', max=1), HTML(value='')))"
      ]
     },
     "metadata": {},
     "output_type": "display_data"
    },
    {
     "name": "stdout",
     "output_type": "stream",
     "text": [
      "\n"
     ]
    },
    {
     "data": {
      "application/vnd.jupyter.widget-view+json": {
       "model_id": "62de1ef131e741b7b99847896e07e97a",
       "version_major": 2,
       "version_minor": 0
      },
      "text/plain": [
       "HBox(children=(IntProgress(value=0, max=285103), HTML(value='')))"
      ]
     },
     "metadata": {},
     "output_type": "display_data"
    },
    {
     "name": "stdout",
     "output_type": "stream",
     "text": [
      "\n"
     ]
    }
   ],
   "source": [
    "train_set, test_set, comments = train_test_split(comments)"
   ]
  },
  {
   "cell_type": "code",
   "execution_count": 13,
   "metadata": {},
   "outputs": [
    {
     "data": {
      "text/plain": [
       "801933"
      ]
     },
     "execution_count": 13,
     "metadata": {},
     "output_type": "execute_result"
    }
   ],
   "source": [
    "len(train_set)"
   ]
  },
  {
   "cell_type": "code",
   "execution_count": 14,
   "metadata": {},
   "outputs": [
    {
     "data": {
      "text/plain": [
       "285103"
      ]
     },
     "execution_count": 14,
     "metadata": {},
     "output_type": "execute_result"
    }
   ],
   "source": [
    "len(test_set)"
   ]
  },
  {
   "cell_type": "markdown",
   "metadata": {},
   "source": [
    "### AUC Metric\n",
    "\n",
    "We will implement the AUC Metric for evaluation of BPR based methods. We take the definition given in the paper [BPR: Bayesian Personalized Ranking from Implicit Feedback](https://arxiv.org/pdf/1205.2618.pdf), section 6.2 . AUC is defined as \n",
    " \n",
    "$$AUC = \\frac{1}{| U |} \\sum_u \\frac{1}{|E(u)|} \\sum_{(i, j) \\in E(u)} \\delta(\\hat{x}_{ui} - \\hat{x}_{xj}) $$\n",
    "\n",
    "where $$E(u) := \\{(i, j) | (u, i) \\in S_{test} ∧ (u, j) \\notin (S_{test} ∪ S_{train})\\}$$\n",
    "\n"
   ]
  },
  {
   "cell_type": "code",
   "execution_count": 15,
   "metadata": {},
   "outputs": [
    {
     "data": {
      "application/vnd.jupyter.widget-view+json": {
       "model_id": "4f708fb827d74865b8860996d8c93387",
       "version_major": 2,
       "version_minor": 0
      },
      "text/plain": [
       "HBox(children=(IntProgress(value=0, max=801933), HTML(value='')))"
      ]
     },
     "metadata": {},
     "output_type": "display_data"
    },
    {
     "name": "stdout",
     "output_type": "stream",
     "text": [
      "\n"
     ]
    },
    {
     "data": {
      "application/vnd.jupyter.widget-view+json": {
       "model_id": "b97ec8892ffd4f76b20f2d207b315a46",
       "version_major": 2,
       "version_minor": 0
      },
      "text/plain": [
       "HBox(children=(IntProgress(value=0, max=285103), HTML(value='')))"
      ]
     },
     "metadata": {},
     "output_type": "display_data"
    },
    {
     "name": "stdout",
     "output_type": "stream",
     "text": [
      "\n"
     ]
    }
   ],
   "source": [
    "# create E(u) list for each user and store it use ids instead of names to store them\n",
    "E_u = defaultdict(lambda : set())\n",
    "\n",
    "for subreddit, user, _ in tqdm.tqdm_notebook(train_set):\n",
    "        E_u[users_index[user]].add(subreddits_index[subreddit])\n",
    "            \n",
    "for subreddit, user, _ in tqdm.tqdm_notebook(test_set):\n",
    "        E_u[users_index[user]].add(subreddits_index[subreddit])"
   ]
  },
  {
   "cell_type": "code",
   "execution_count": 28,
   "metadata": {},
   "outputs": [],
   "source": [
    "# train the bpr model \n",
    "from implicit.bpr import BayesianPersonalizedRanking\n",
    "\n",
    "params = {\"factors\": 63}"
   ]
  },
  {
   "cell_type": "code",
   "execution_count": 29,
   "metadata": {},
   "outputs": [],
   "source": [
    "model = BayesianPersonalizedRanking(**params)"
   ]
  },
  {
   "cell_type": "code",
   "execution_count": 30,
   "metadata": {},
   "outputs": [
    {
     "data": {
      "text/plain": [
       "<13500x285103 sparse matrix of type '<class 'numpy.float64'>'\n",
       "\twith 801933 stored elements in COOrdinate format>"
      ]
     },
     "execution_count": 30,
     "metadata": {},
     "output_type": "execute_result"
    }
   ],
   "source": [
    "comments"
   ]
  },
  {
   "cell_type": "code",
   "execution_count": 31,
   "metadata": {},
   "outputs": [
    {
     "name": "stderr",
     "output_type": "stream",
     "text": [
      "100%|██████████| 100/100 [00:18<00:00,  5.82it/s, correct=96.78%, skipped=6.10%]\n"
     ]
    }
   ],
   "source": [
    "model.fit(comments)"
   ]
  },
  {
   "cell_type": "code",
   "execution_count": 32,
   "metadata": {},
   "outputs": [],
   "source": [
    "num_subreddits = len(subreddits)"
   ]
  },
  {
   "cell_type": "code",
   "execution_count": 33,
   "metadata": {},
   "outputs": [],
   "source": [
    "from utils import *"
   ]
  },
  {
   "cell_type": "code",
   "execution_count": 35,
   "metadata": {},
   "outputs": [],
   "source": [
    "def auc(test_set, user_factors, subreddit_factors, subreddits, users):\n",
    "    \"\"\"\n",
    "    Returns the auc score on a test data set\n",
    "    \"\"\"\n",
    "    num_users = len(test_set)\n",
    "    total = 0\n",
    "\n",
    "    # treat the signal as 1 as per the implicit bpr paper\n",
    "    for subreddit, user, signal in tqdm.tqdm_notebook(test_set):\n",
    "        u = users_index[user]\n",
    "        i = subreddits_index[subreddit]\n",
    "\n",
    "        x_ui = user_factors[u].dot(subreddit_factors[i])\n",
    "\n",
    "        js = []\n",
    "\n",
    "        for j in range(0, num_subreddits):\n",
    "            if j != i and j not in E_u[u]:\n",
    "                js.append(j)\n",
    "\n",
    "        total += np.sum(np.heaviside(x_ui - \\\n",
    "                        user_factors[u].dot(subreddit_factors[js].T), 0)) / len(js)\n",
    "\n",
    "    return total / num_users"
   ]
  },
  {
   "cell_type": "code",
   "execution_count": 36,
   "metadata": {},
   "outputs": [
    {
     "data": {
      "application/vnd.jupyter.widget-view+json": {
       "model_id": "4d4bf4cd348a45d4bf37eb285da8e7ed",
       "version_major": 2,
       "version_minor": 0
      },
      "text/plain": [
       "HBox(children=(IntProgress(value=0, max=10000), HTML(value='')))"
      ]
     },
     "metadata": {},
     "output_type": "display_data"
    },
    {
     "name": "stdout",
     "output_type": "stream",
     "text": [
      "\n"
     ]
    },
    {
     "data": {
      "text/plain": [
       "0.7154472624571377"
      ]
     },
     "execution_count": 36,
     "metadata": {},
     "output_type": "execute_result"
    }
   ],
   "source": [
    "auc(test_set[:10000], model.user_factors, model.item_factors, subreddits, users)"
   ]
  },
  {
   "cell_type": "code",
   "execution_count": 37,
   "metadata": {},
   "outputs": [],
   "source": [
    "def get_aucs_vs_factors():\n",
    "    factors = [8, 16, 32, 64, 128]\n",
    "    params_list = [{\"factors\": factor} for factor in factors]\n",
    "    \n",
    "    aucs = []\n",
    "    \n",
    "    for params in params_list:\n",
    "        model = BayesianPersonalizedRanking(**params)\n",
    "        model.fit(comments)\n",
    "        auc_ = auc(test_set[:10000], model.user_factors, model.item_factors, subreddits, users)\n",
    "        print(auc_)\n",
    "        aucs.append(auc_)\n",
    "    \n",
    "    return aucs"
   ]
  },
  {
   "cell_type": "code",
   "execution_count": 38,
   "metadata": {},
   "outputs": [
    {
     "name": "stderr",
     "output_type": "stream",
     "text": [
      "100%|██████████| 100/100 [00:16<00:00,  6.49it/s, correct=93.07%, skipped=6.06%]\n"
     ]
    },
    {
     "data": {
      "application/vnd.jupyter.widget-view+json": {
       "model_id": "10321dc325c14558b9bb47ce3b3377ca",
       "version_major": 2,
       "version_minor": 0
      },
      "text/plain": [
       "HBox(children=(IntProgress(value=0, max=10000), HTML(value='')))"
      ]
     },
     "metadata": {},
     "output_type": "display_data"
    },
    {
     "name": "stderr",
     "output_type": "stream",
     "text": [
      "\r",
      "  0%|          | 0/100 [00:00<?, ?it/s]"
     ]
    },
    {
     "name": "stdout",
     "output_type": "stream",
     "text": [
      "\n",
      "0.719584496581462\n"
     ]
    },
    {
     "name": "stderr",
     "output_type": "stream",
     "text": [
      "100%|██████████| 100/100 [00:14<00:00,  7.39it/s, correct=95.73%, skipped=6.08%]\n"
     ]
    },
    {
     "data": {
      "application/vnd.jupyter.widget-view+json": {
       "model_id": "f15673cb8b1543e0805de7dd67da5f05",
       "version_major": 2,
       "version_minor": 0
      },
      "text/plain": [
       "HBox(children=(IntProgress(value=0, max=10000), HTML(value='')))"
      ]
     },
     "metadata": {},
     "output_type": "display_data"
    },
    {
     "name": "stdout",
     "output_type": "stream",
     "text": [
      "\n",
      "0.7027533337412357\n"
     ]
    },
    {
     "name": "stderr",
     "output_type": "stream",
     "text": [
      "100%|██████████| 100/100 [00:15<00:00,  6.66it/s, correct=96.84%, skipped=6.02%]\n"
     ]
    },
    {
     "data": {
      "application/vnd.jupyter.widget-view+json": {
       "model_id": "8090934de0814d1b8df30014b1aba2ea",
       "version_major": 2,
       "version_minor": 0
      },
      "text/plain": [
       "HBox(children=(IntProgress(value=0, max=10000), HTML(value='')))"
      ]
     },
     "metadata": {},
     "output_type": "display_data"
    },
    {
     "name": "stdout",
     "output_type": "stream",
     "text": [
      "\n",
      "0.7139457583443933\n"
     ]
    },
    {
     "name": "stderr",
     "output_type": "stream",
     "text": [
      "100%|██████████| 100/100 [00:23<00:00,  5.04it/s, correct=96.82%, skipped=6.04%]\n"
     ]
    },
    {
     "data": {
      "application/vnd.jupyter.widget-view+json": {
       "model_id": "bcd9790b37a740689e4b88b89a4d0f03",
       "version_major": 2,
       "version_minor": 0
      },
      "text/plain": [
       "HBox(children=(IntProgress(value=0, max=10000), HTML(value='')))"
      ]
     },
     "metadata": {},
     "output_type": "display_data"
    },
    {
     "name": "stdout",
     "output_type": "stream",
     "text": [
      "\n",
      "0.7035268376229404\n"
     ]
    },
    {
     "name": "stderr",
     "output_type": "stream",
     "text": [
      "100%|██████████| 100/100 [00:22<00:00,  4.60it/s, correct=96.55%, skipped=6.11%]\n"
     ]
    },
    {
     "data": {
      "application/vnd.jupyter.widget-view+json": {
       "model_id": "5f51b8a6481f4a478611ab4315bdb986",
       "version_major": 2,
       "version_minor": 0
      },
      "text/plain": [
       "HBox(children=(IntProgress(value=0, max=10000), HTML(value='')))"
      ]
     },
     "metadata": {},
     "output_type": "display_data"
    },
    {
     "name": "stdout",
     "output_type": "stream",
     "text": [
      "\n",
      "0.7166421893585617\n"
     ]
    }
   ],
   "source": [
    "aucs_vs_factors = get_aucs_vs_factors()"
   ]
  },
  {
   "cell_type": "code",
   "execution_count": 5,
   "metadata": {},
   "outputs": [
    {
     "data": {
      "text/plain": [
       "[0.7127681415290543,\n",
       " 0.7169677827047857,\n",
       " 0.7230466831483704,\n",
       " 0.7053167273837033,\n",
       " 0.7169114986739286]"
      ]
     },
     "execution_count": 5,
     "metadata": {},
     "output_type": "execute_result"
    }
   ],
   "source": [
    "aucs_vs_factors"
   ]
  },
  {
   "cell_type": "code",
   "execution_count": 21,
   "metadata": {},
   "outputs": [],
   "source": [
    "def auc(test_set, user_factors, subreddit_factors, subreddits, users):\n",
    "    \"\"\"\n",
    "    Returns the auc score on a test data set\n",
    "    \"\"\"\n",
    "    num_users = len(test_set)\n",
    "    total = 0\n",
    "\n",
    "    # treat the signal as 1 as per the implicit bpr paper\n",
    "    for subreddit, user, signal in tqdm.tqdm_notebook(test_set):\n",
    "        u = users_index[user]\n",
    "        i = subreddits_index[subreddit]\n",
    "\n",
    "        x_ui = user_factors[u].dot(subreddit_factors[i])\n",
    "\n",
    "        js = []\n",
    "\n",
    "        for j in range(0, num_subreddits):\n",
    "            if j != i and j not in E_u[u]:\n",
    "                js.append(j)\n",
    "\n",
    "        total += np.sum(np.heaviside(x_ui - \\\n",
    "                        user_factors[u].dot(subreddit_factors[js].T), 0)) / len(js)\n",
    "\n",
    "    return total / num_users\n"
   ]
  },
  {
   "cell_type": "code",
   "execution_count": 22,
   "metadata": {},
   "outputs": [],
   "source": [
    "def get_aucs_vs_factors_als():\n",
    "    factors = [8, 16, 32, 64, 128]\n",
    "    \n",
    "    aucs = []\n",
    "    \n",
    "    for factor in factors:\n",
    "        subreddit_factors, user_factors = alternating_least_squares(bm25_weight(comments), factor)\n",
    "        auc_ = auc(test_set[:10000], user_factors, subreddit_factors, subreddits, users)\n",
    "        print(auc_)\n",
    "        aucs.append(auc_)\n",
    "    \n",
    "    return aucs"
   ]
  },
  {
   "cell_type": "code",
   "execution_count": 25,
   "metadata": {},
   "outputs": [
    {
     "name": "stderr",
     "output_type": "stream",
     "text": [
      "WARNING:implicit:This method is deprecated. Please use the AlternatingLeastSquares class instead\n",
      "100%|██████████| 15.0/15 [00:04<00:00,  3.42it/s]\n"
     ]
    },
    {
     "data": {
      "application/vnd.jupyter.widget-view+json": {
       "model_id": "0eba320176bc47979d9ae18daed58015",
       "version_major": 2,
       "version_minor": 0
      },
      "text/plain": [
       "HBox(children=(IntProgress(value=0, max=10000), HTML(value='')))"
      ]
     },
     "metadata": {},
     "output_type": "display_data"
    },
    {
     "name": "stderr",
     "output_type": "stream",
     "text": [
      "WARNING:implicit:This method is deprecated. Please use the AlternatingLeastSquares class instead\n",
      "  0%|          | 0/15 [00:00<?, ?it/s]"
     ]
    },
    {
     "name": "stdout",
     "output_type": "stream",
     "text": [
      "\n",
      "0.7532502962975772\n"
     ]
    },
    {
     "name": "stderr",
     "output_type": "stream",
     "text": [
      "100%|██████████| 15.0/15 [00:05<00:00,  2.82it/s]\n"
     ]
    },
    {
     "data": {
      "application/vnd.jupyter.widget-view+json": {
       "model_id": "3c8e91cf11e14dbb8e1b87eb2c6a525b",
       "version_major": 2,
       "version_minor": 0
      },
      "text/plain": [
       "HBox(children=(IntProgress(value=0, max=10000), HTML(value='')))"
      ]
     },
     "metadata": {},
     "output_type": "display_data"
    },
    {
     "name": "stderr",
     "output_type": "stream",
     "text": [
      "WARNING:implicit:This method is deprecated. Please use the AlternatingLeastSquares class instead\n"
     ]
    },
    {
     "name": "stdout",
     "output_type": "stream",
     "text": [
      "\n",
      "0.7646220234906469\n"
     ]
    },
    {
     "name": "stderr",
     "output_type": "stream",
     "text": [
      "100%|██████████| 15.0/15 [00:06<00:00,  2.53it/s]\n"
     ]
    },
    {
     "data": {
      "application/vnd.jupyter.widget-view+json": {
       "model_id": "ab34abf4fe664a3bb6665f4f26775097",
       "version_major": 2,
       "version_minor": 0
      },
      "text/plain": [
       "HBox(children=(IntProgress(value=0, max=10000), HTML(value='')))"
      ]
     },
     "metadata": {},
     "output_type": "display_data"
    },
    {
     "name": "stderr",
     "output_type": "stream",
     "text": [
      "WARNING:implicit:This method is deprecated. Please use the AlternatingLeastSquares class instead\n"
     ]
    },
    {
     "name": "stdout",
     "output_type": "stream",
     "text": [
      "\n",
      "0.7811194828486229\n"
     ]
    },
    {
     "name": "stderr",
     "output_type": "stream",
     "text": [
      "100%|██████████| 15.0/15 [00:09<00:00,  1.83it/s]\n"
     ]
    },
    {
     "data": {
      "application/vnd.jupyter.widget-view+json": {
       "model_id": "88a4ffac893f48f4bd934ef18e3b4732",
       "version_major": 2,
       "version_minor": 0
      },
      "text/plain": [
       "HBox(children=(IntProgress(value=0, max=10000), HTML(value='')))"
      ]
     },
     "metadata": {},
     "output_type": "display_data"
    },
    {
     "name": "stderr",
     "output_type": "stream",
     "text": [
      "WARNING:implicit:This method is deprecated. Please use the AlternatingLeastSquares class instead\n"
     ]
    },
    {
     "name": "stdout",
     "output_type": "stream",
     "text": [
      "\n",
      "0.7996316000860498\n"
     ]
    },
    {
     "name": "stderr",
     "output_type": "stream",
     "text": [
      "100%|██████████| 15.0/15 [00:16<00:00,  1.00s/it]\n"
     ]
    },
    {
     "data": {
      "application/vnd.jupyter.widget-view+json": {
       "model_id": "fd86be3cbe3c447689c132393a3123ed",
       "version_major": 2,
       "version_minor": 0
      },
      "text/plain": [
       "HBox(children=(IntProgress(value=0, max=10000), HTML(value='')))"
      ]
     },
     "metadata": {},
     "output_type": "display_data"
    },
    {
     "name": "stdout",
     "output_type": "stream",
     "text": [
      "\n",
      "0.8152623487533477\n"
     ]
    }
   ],
   "source": [
    "aucs_als = get_aucs_vs_factors_als()"
   ]
  },
  {
   "cell_type": "code",
   "execution_count": 26,
   "metadata": {},
   "outputs": [
    {
     "data": {
      "text/plain": [
       "[0.7532502962975772,\n",
       " 0.7646220234906469,\n",
       " 0.7811194828486229,\n",
       " 0.7996316000860498,\n",
       " 0.8152623487533477]"
      ]
     },
     "execution_count": 26,
     "metadata": {},
     "output_type": "execute_result"
    }
   ],
   "source": [
    "aucs_als"
   ]
  },
  {
   "cell_type": "code",
   "execution_count": 40,
   "metadata": {},
   "outputs": [],
   "source": [
    "aucs_tbpr = [0.9005884623283035,\n",
    " 0.9000449631079535,\n",
    " 0.8960811226825817,\n",
    " 0.8951720529233058,\n",
    " 0.89860491001835]"
   ]
  },
  {
   "cell_type": "code",
   "execution_count": 58,
   "metadata": {
    "scrolled": true
   },
   "outputs": [
    {
     "data": {
      "image/png": "[encoded data removed]",
      "text/plain": [
       "<Figure size 432x288 with 1 Axes>"
      ]
     },
     "metadata": {},
     "output_type": "display_data"
    }
   ],
   "source": [
    "import numpy as np\n",
    "import matplotlib\n",
    "import matplotlib.pyplot as plt\n",
    "\n",
    "\n",
    "\n",
    "# with plt.xkcd():\n",
    "xs = np.array([8, 16, 32, 64, 128])\n",
    "ys = aucs_vs_factors\n",
    "axes = plt.axes()\n",
    "plt.semilogx(xs, ys, '-gD', label='BPR')\n",
    "plt.semilogx(xs, aucs_als, '-g^', label='ALS', color='orange')\n",
    "plt.semilogx(xs, aucs_tbpr, '-go', label='tBPR')\n",
    "axes.set_ylim([0.60, 1.0])\n",
    "axes.set_xticks([10, 20, 50, 100])\n",
    "axes.get_xaxis().set_major_formatter(matplotlib.ticker.ScalarFormatter())\n",
    "axes.set_xlabel('number of dimensions')\n",
    "axes.set_ylabel('AUC')\n",
    "plt.title('AUC scores for Reddit January Data')\n",
    "plt.legend()\n",
    "plt.grid()\n",
    "plt.savefig('AUCs.png', dpi=1000, bbox_inches='tight')\n",
    "plt.show()"
   ]
  },
  {
   "cell_type": "code",
   "execution_count": 43,
   "metadata": {},
   "outputs": [
    {
     "name": "stdout",
     "output_type": "stream",
     "text": [
      "Help on function legend in module matplotlib.pyplot:\n",
      "\n",
      "legend(*args, **kwargs)\n",
      "    Places a legend on the axes.\n",
      "    \n",
      "    Call signatures::\n",
      "    \n",
      "        legend()\n",
      "        legend(labels)\n",
      "        legend(handles, labels)\n",
      "    \n",
      "    The call signatures correspond to three different ways how to use\n",
      "    this method.\n",
      "    \n",
      "    **1. Automatic detection of elements to be shown in the legend**\n",
      "    \n",
      "    The elements to be added to the legend are automatically determined,\n",
      "    when you do not pass in any extra arguments.\n",
      "    \n",
      "    In this case, the labels are taken from the artist. You can specify\n",
      "    them either at artist creation or by calling the\n",
      "    :meth:`~.Artist.set_label` method on the artist::\n",
      "    \n",
      "        line, = ax.plot([1, 2, 3], label='Inline label')\n",
      "        ax.legend()\n",
      "    \n",
      "    or::\n",
      "    \n",
      "        line.set_label('Label via method')\n",
      "        line, = ax.plot([1, 2, 3])\n",
      "        ax.legend()\n",
      "    \n",
      "    Specific lines can be excluded from the automatic legend element\n",
      "    selection by defining a label starting with an underscore.\n",
      "    This is default for all artists, so calling `Axes.legend` without\n",
      "    any arguments and without setting the labels manually will result in\n",
      "    no legend being drawn.\n",
      "    \n",
      "    \n",
      "    **2. Labeling existing plot elements**\n",
      "    \n",
      "    To make a legend for lines which already exist on the axes\n",
      "    (via plot for instance), simply call this function with an iterable\n",
      "    of strings, one for each legend item. For example::\n",
      "    \n",
      "        ax.plot([1, 2, 3])\n",
      "        ax.legend(['A simple line'])\n",
      "    \n",
      "    Note: This way of using is discouraged, because the relation between\n",
      "    plot elements and labels is only implicit by their order and can\n",
      "    easily be mixed up.\n",
      "    \n",
      "    \n",
      "    **3. Explicitly defining the elements in the legend**\n",
      "    \n",
      "    For full control of which artists have a legend entry, it is possible\n",
      "    to pass an iterable of legend artists followed by an iterable of\n",
      "    legend labels respectively::\n",
      "    \n",
      "        legend((line1, line2, line3), ('label1', 'label2', 'label3'))\n",
      "    \n",
      "    Parameters\n",
      "    ----------\n",
      "    \n",
      "    handles : sequence of `.Artist`, optional\n",
      "        A list of Artists (lines, patches) to be added to the legend.\n",
      "        Use this together with *labels*, if you need full control on what\n",
      "        is shown in the legend and the automatic mechanism described above\n",
      "        is not sufficient.\n",
      "    \n",
      "        The length of handles and labels should be the same in this\n",
      "        case. If they are not, they are truncated to the smaller length.\n",
      "    \n",
      "    labels : sequence of strings, optional\n",
      "        A list of labels to show next to the artists.\n",
      "        Use this together with *handles*, if you need full control on what\n",
      "        is shown in the legend and the automatic mechanism described above\n",
      "        is not sufficient.\n",
      "    \n",
      "    Other Parameters\n",
      "    ----------------\n",
      "    \n",
      "    loc : int or string or pair of floats, default: 'upper right'\n",
      "        The location of the legend. Possible codes are:\n",
      "    \n",
      "            ===============   =============\n",
      "            Location String   Location Code\n",
      "            ===============   =============\n",
      "            'best'            0\n",
      "            'upper right'     1\n",
      "            'upper left'      2\n",
      "            'lower left'      3\n",
      "            'lower right'     4\n",
      "            'right'           5\n",
      "            'center left'     6\n",
      "            'center right'    7\n",
      "            'lower center'    8\n",
      "            'upper center'    9\n",
      "            'center'          10\n",
      "            ===============   =============\n",
      "    \n",
      "    \n",
      "        Alternatively can be a 2-tuple giving ``x, y`` of the lower-left\n",
      "        corner of the legend in axes coordinates (in which case\n",
      "        ``bbox_to_anchor`` will be ignored).\n",
      "    \n",
      "    bbox_to_anchor : `.BboxBase` or pair of floats\n",
      "        Specify any arbitrary location for the legend in `bbox_transform`\n",
      "        coordinates (default Axes coordinates).\n",
      "    \n",
      "        For example, to put the legend's upper right hand corner in the\n",
      "        center of the axes the following keywords can be used::\n",
      "    \n",
      "           loc='upper right', bbox_to_anchor=(0.5, 0.5)\n",
      "    \n",
      "    ncol : integer\n",
      "        The number of columns that the legend has. Default is 1.\n",
      "    \n",
      "    prop : None or :class:`matplotlib.font_manager.FontProperties` or dict\n",
      "        The font properties of the legend. If None (default), the current\n",
      "        :data:`matplotlib.rcParams` will be used.\n",
      "    \n",
      "    fontsize : int or float or {'xx-small', 'x-small', 'small', 'medium', 'large', 'x-large', 'xx-large'}\n",
      "        Controls the font size of the legend. If the value is numeric the\n",
      "        size will be the absolute font size in points. String values are\n",
      "        relative to the current default font size. This argument is only\n",
      "        used if `prop` is not specified.\n",
      "    \n",
      "    numpoints : None or int\n",
      "        The number of marker points in the legend when creating a legend\n",
      "        entry for a `.Line2D` (line).\n",
      "        Default is ``None``, which will take the value from\n",
      "        :rc:`legend.numpoints`.\n",
      "    \n",
      "    scatterpoints : None or int\n",
      "        The number of marker points in the legend when creating\n",
      "        a legend entry for a `.PathCollection` (scatter plot).\n",
      "        Default is ``None``, which will take the value from\n",
      "        :rc:`legend.scatterpoints`.\n",
      "    \n",
      "    scatteryoffsets : iterable of floats\n",
      "        The vertical offset (relative to the font size) for the markers\n",
      "        created for a scatter plot legend entry. 0.0 is at the base the\n",
      "        legend text, and 1.0 is at the top. To draw all markers at the\n",
      "        same height, set to ``[0.5]``. Default is ``[0.375, 0.5, 0.3125]``.\n",
      "    \n",
      "    markerscale : None or int or float\n",
      "        The relative size of legend markers compared with the originally\n",
      "        drawn ones.\n",
      "        Default is ``None``, which will take the value from\n",
      "        :rc:`legend.markerscale`.\n",
      "    \n",
      "    markerfirst : bool\n",
      "        If *True*, legend marker is placed to the left of the legend label.\n",
      "        If *False*, legend marker is placed to the right of the legend\n",
      "        label.\n",
      "        Default is *True*.\n",
      "    \n",
      "    frameon : None or bool\n",
      "        Control whether the legend should be drawn on a patch\n",
      "        (frame).\n",
      "        Default is ``None``, which will take the value from\n",
      "        :rc:`legend.frameon`.\n",
      "    \n",
      "    fancybox : None or bool\n",
      "        Control whether round edges should be enabled around the\n",
      "        :class:`~matplotlib.patches.FancyBboxPatch` which makes up the\n",
      "        legend's background.\n",
      "        Default is ``None``, which will take the value from\n",
      "        :rc:`legend.fancybox`.\n",
      "    \n",
      "    shadow : None or bool\n",
      "        Control whether to draw a shadow behind the legend.\n",
      "        Default is ``None``, which will take the value from\n",
      "        :rc:`legend.shadow`.\n",
      "    \n",
      "    framealpha : None or float\n",
      "        Control the alpha transparency of the legend's background.\n",
      "        Default is ``None``, which will take the value from\n",
      "        :rc:`legend.framealpha`.  If shadow is activated and\n",
      "        *framealpha* is ``None``, the default value is ignored.\n",
      "    \n",
      "    facecolor : None or \"inherit\" or a color spec\n",
      "        Control the legend's background color.\n",
      "        Default is ``None``, which will take the value from\n",
      "        :rc:`legend.facecolor`.  If ``\"inherit\"``, it will take\n",
      "        :rc:`axes.facecolor`.\n",
      "    \n",
      "    edgecolor : None or \"inherit\" or a color spec\n",
      "        Control the legend's background patch edge color.\n",
      "        Default is ``None``, which will take the value from\n",
      "        :rc:`legend.edgecolor` If ``\"inherit\"``, it will take\n",
      "        :rc:`axes.edgecolor`.\n",
      "    \n",
      "    mode : {\"expand\", None}\n",
      "        If `mode` is set to ``\"expand\"`` the legend will be horizontally\n",
      "        expanded to fill the axes area (or `bbox_to_anchor` if defines\n",
      "        the legend's size).\n",
      "    \n",
      "    bbox_transform : None or :class:`matplotlib.transforms.Transform`\n",
      "        The transform for the bounding box (`bbox_to_anchor`). For a value\n",
      "        of ``None`` (default) the Axes'\n",
      "        :data:`~matplotlib.axes.Axes.transAxes` transform will be used.\n",
      "    \n",
      "    title : str or None\n",
      "        The legend's title. Default is no title (``None``).\n",
      "    \n",
      "    borderpad : float or None\n",
      "        The fractional whitespace inside the legend border.\n",
      "        Measured in font-size units.\n",
      "        Default is ``None``, which will take the value from\n",
      "        :rc:`legend.borderpad`.\n",
      "    \n",
      "    labelspacing : float or None\n",
      "        The vertical space between the legend entries.\n",
      "        Measured in font-size units.\n",
      "        Default is ``None``, which will take the value from\n",
      "        :rc:`legend.labelspacing`.\n",
      "    \n",
      "    handlelength : float or None\n",
      "        The length of the legend handles.\n",
      "        Measured in font-size units.\n",
      "        Default is ``None``, which will take the value from\n",
      "        :rc:`legend.handlelength`.\n",
      "    \n",
      "    handletextpad : float or None\n",
      "        The pad between the legend handle and text.\n",
      "        Measured in font-size units.\n",
      "        Default is ``None``, which will take the value from\n",
      "        :rc:`legend.handletextpad`.\n",
      "    \n",
      "    borderaxespad : float or None\n",
      "        The pad between the axes and legend border.\n",
      "        Measured in font-size units.\n",
      "        Default is ``None``, which will take the value from\n",
      "        :rc:`legend.borderaxespad`.\n",
      "    \n",
      "    columnspacing : float or None\n",
      "        The spacing between columns.\n",
      "        Measured in font-size units.\n",
      "        Default is ``None``, which will take the value from\n",
      "        :rc:`legend.columnspacing`.\n",
      "    \n",
      "    handler_map : dict or None\n",
      "        The custom dictionary mapping instances or types to a legend\n",
      "        handler. This `handler_map` updates the default handler map\n",
      "        found at :func:`matplotlib.legend.Legend.get_legend_handler_map`.\n",
      "    \n",
      "    Returns\n",
      "    -------\n",
      "    \n",
      "    :class:`matplotlib.legend.Legend` instance\n",
      "    \n",
      "    Notes\n",
      "    -----\n",
      "    \n",
      "    Not all kinds of artist are supported by the legend command. See\n",
      "    :ref:`sphx_glr_tutorials_intermediate_legend_guide.py` for details.\n",
      "    \n",
      "    Examples\n",
      "    --------\n",
      "    \n",
      "    .. plot:: gallery/api/legend.py\n",
      "\n"
     ]
    }
   ],
   "source": [
    "help(plt.legend)"
   ]
  },
  {
   "cell_type": "code",
   "execution_count": null,
   "metadata": {},
   "outputs": [],
   "source": []
  }
 ],
 "metadata": {
  "@webio": {
   "lastCommId": null,
   "lastKernelId": null
  },
  "kernelspec": {
   "display_name": "Python 3",
   "language": "python",
   "name": "python3"
  },
  "language_info": {
   "codemirror_mode": {
    "name": "ipython",
    "version": 3
   },
   "file_extension": ".py",
   "mimetype": "text/x-python",
   "name": "python",
   "nbconvert_exporter": "python",
   "pygments_lexer": "ipython3",
   "version": "3.6.8"
  }
 },
 "nbformat": 4,
 "nbformat_minor": 2
}
