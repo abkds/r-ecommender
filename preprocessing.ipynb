{
 "cells": [
  {
   "cell_type": "markdown",
   "metadata": {},
   "source": [
    "## Data exploration \n",
    "\n",
    "In the following sections we will explore the dataset to fetch basic statistics about the dataset like the number of subreddits, users, how many comments were made etc. This will help us in determing the direction of further exploration of the comments and suitable subsampling of the comments, with which we will build the final recommender. \n",
    "\n",
    "Also as a baseline we are considering each comment by a user on a subreddit as an implicit feedback that the user interacts with this subreddit. "
   ]
  },
  {
   "cell_type": "code",
   "execution_count": 50,
   "metadata": {},
   "outputs": [],
   "source": [
    "import ijson\n",
    "import json\n",
    "import numpy as np\n",
    "from tqdm import tqdm_notebook\n",
    "from collections import defaultdict"
   ]
  },
  {
   "cell_type": "code",
   "execution_count": 26,
   "metadata": {},
   "outputs": [],
   "source": [
    "# sample json from the reddit data to get the keys\n",
    "sample_json = \"\"\"{\"score_hidden\":false,\"name\":\"t1_cnas8zv\",\"link_id\":\"t3_2qyr1a\",\"body\":\"Most of us have some family members like this. *Most* of my family is like this. \",\"downs\":0,\"created_utc\":\"1420070400\",\"score\":14,\"author\":\"YoungModern\",\"distinguished\":null,\"id\":\"cnas8zv\",\"archived\":false,\"parent_id\":\"t3_2qyr1a\",\"subreddit\":\"exmormon\",\"author_flair_css_class\":null,\"author_flair_text\":null,\"gilded\":0,\"retrieved_on\":1425124282,\"ups\":14,\"controversiality\":0,\"subreddit_id\":\"t5_2r0gj\",\"edited\":false}\"\"\"\n",
    "json_keys = [key for key, value in json.loads(sample_json).items()]"
   ]
  },
  {
   "cell_type": "code",
   "execution_count": 27,
   "metadata": {},
   "outputs": [
    {
     "data": {
      "text/plain": [
       "['score_hidden',\n",
       " 'name',\n",
       " 'link_id',\n",
       " 'body',\n",
       " 'downs',\n",
       " 'created_utc',\n",
       " 'score',\n",
       " 'author',\n",
       " 'distinguished',\n",
       " 'id',\n",
       " 'archived',\n",
       " 'parent_id',\n",
       " 'subreddit',\n",
       " 'author_flair_css_class',\n",
       " 'author_flair_text',\n",
       " 'gilded',\n",
       " 'retrieved_on',\n",
       " 'ups',\n",
       " 'controversiality',\n",
       " 'subreddit_id',\n",
       " 'edited']"
      ]
     },
     "execution_count": 27,
     "metadata": {},
     "output_type": "execute_result"
    }
   ],
   "source": [
    "json_keys"
   ]
  },
  {
   "cell_type": "code",
   "execution_count": 45,
   "metadata": {},
   "outputs": [
    {
     "data": {
      "application/vnd.jupyter.widget-view+json": {
       "model_id": "8c4746b92e704828a061cc8ed2e5059b",
       "version_major": 2,
       "version_minor": 0
      },
      "text/plain": [
       "HBox(children=(IntProgress(value=1, bar_style='info', max=1), HTML(value='')))"
      ]
     },
     "metadata": {},
     "output_type": "display_data"
    },
    {
     "name": "stdout",
     "output_type": "stream",
     "text": [
      "\n"
     ]
    }
   ],
   "source": [
    "subreddits = defaultdict(int) # number of comments per subreddit\n",
    "authors = defaultdict(int) # number of comments per user\n",
    "\n",
    "with open('data/RC_2015-01') as infile:\n",
    "    for line in tqdm_notebook(infile):\n",
    "        comment = json.loads(line)\n",
    "        subreddits[comment['subreddit']] += 1\n",
    "        authors[comment['author']] += 1\n",
    "        del comment"
   ]
  },
  {
   "cell_type": "code",
   "execution_count": 52,
   "metadata": {},
   "outputs": [
    {
     "name": "stdout",
     "output_type": "stream",
     "text": [
      "Number of users %s: 2512123\n",
      "Number of subreddits %s: 47172\n"
     ]
    }
   ],
   "source": [
    "print('Number of users: %s' % len(authors))\n",
    "print('Number of subreddits: %s' % len(subreddits))"
   ]
  },
  {
   "cell_type": "code",
   "execution_count": 56,
   "metadata": {},
   "outputs": [],
   "source": [
    "avg_comments_per_subreddit = np.mean([v for k, v in subreddits.items()])\n",
    "avg_comments_per_user = np.mean([v for k, v in authors.items()])"
   ]
  },
  {
   "cell_type": "code",
   "execution_count": 59,
   "metadata": {},
   "outputs": [
    {
     "name": "stdout",
     "output_type": "stream",
     "text": [
      "Average number of comments per subreddit: 1141.600\n",
      "Average number of comments per user: 21.437\n"
     ]
    }
   ],
   "source": [
    "print('Average number of comments per subreddit: %.3f' % avg_comments_per_subreddit)\n",
    "print('Average number of comments per user: %.3f' % avg_comments_per_user)"
   ]
  },
  {
   "cell_type": "code",
   "execution_count": 103,
   "metadata": {},
   "outputs": [
    {
     "data": {
      "application/vnd.jupyter.widget-view+json": {
       "model_id": "94a53bab0d45416cb028cedad79515a7",
       "version_major": 2,
       "version_minor": 0
      },
      "text/plain": [
       "HBox(children=(IntProgress(value=1, bar_style='info', max=1), HTML(value='')))"
      ]
     },
     "metadata": {},
     "output_type": "display_data"
    },
    {
     "name": "stdout",
     "output_type": "stream",
     "text": [
      "\n"
     ]
    }
   ],
   "source": [
    "subreddit_user_interaction = defaultdict(lambda: defaultdict(lambda: 0))\n",
    "\n",
    "with open('data/RC_2015-01') as infile:\n",
    "    for line in tqdm_notebook(infile):\n",
    "        comment = json.loads(line)\n",
    "        subreddit = comment['subreddit']\n",
    "        author = comment['author']\n",
    "        if len(comment['body']) > 30:\n",
    "            subreddit_user_interaction[subreddit][author] += 1\n",
    "        del comment"
   ]
  },
  {
   "cell_type": "code",
   "execution_count": 104,
   "metadata": {},
   "outputs": [],
   "source": [
    "with open('interactions', 'a') as f:\n",
    "    for subreddit in subreddit_user_interaction.keys():\n",
    "        for author in subreddit_user_interaction[subreddit].keys():\n",
    "            line = ' '.join(list(map(str, [subreddit, author, subreddit_user_interaction[subreddit][author], '\\n'])))\n",
    "            f.write(line)"
   ]
  },
  {
   "cell_type": "code",
   "execution_count": 119,
   "metadata": {},
   "outputs": [
    {
     "data": {
      "application/vnd.jupyter.widget-view+json": {
       "model_id": "7f273ff0c6714f88978d191d5d028335",
       "version_major": 2,
       "version_minor": 0
      },
      "text/plain": [
       "HBox(children=(IntProgress(value=1, bar_style='info', max=1), HTML(value='')))"
      ]
     },
     "metadata": {},
     "output_type": "display_data"
    },
    {
     "name": "stdout",
     "output_type": "stream",
     "text": [
      "\n"
     ]
    }
   ],
   "source": [
    "quality_subreddit_user_interaction = defaultdict(lambda: defaultdict(lambda: 0))\n",
    "\n",
    "with open('data/RC_2015-01') as infile:\n",
    "    for line in tqdm_notebook(infile):\n",
    "        comment = json.loads(line)\n",
    "        subreddit = comment['subreddit']\n",
    "        author = comment['author']\n",
    "        if len(comment['body']) > 30:\n",
    "            quality_subreddit_user_interaction[subreddit][author] += 1\n",
    "        del comment"
   ]
  },
  {
   "cell_type": "code",
   "execution_count": 121,
   "metadata": {},
   "outputs": [],
   "source": [
    "with open('interactions_30_ch', 'a') as f:\n",
    "    for subreddit in quality_subreddit_user_interaction.keys():\n",
    "        for author in quality_subreddit_user_interaction[subreddit].keys():\n",
    "            line = ' '.join(list(map(str, [subreddit, author, quality_subreddit_user_interaction[subreddit][author], '\\n'])))\n",
    "            f.write(line)"
   ]
  },
  {
   "cell_type": "code",
   "execution_count": null,
   "metadata": {},
   "outputs": [],
   "source": [
    "user_comments_30 = defaultdict(int)\n",
    "for subreddit in quality_subreddit_user_interaction.keys():\n",
    "    \n",
    "    "
   ]
  }
 ],
 "metadata": {
  "kernelspec": {
   "display_name": "Python 3",
   "language": "python",
   "name": "python3"
  },
  "language_info": {
   "codemirror_mode": {
    "name": "ipython",
    "version": 3
   },
   "file_extension": ".py",
   "mimetype": "text/x-python",
   "name": "python",
   "nbconvert_exporter": "python",
   "pygments_lexer": "ipython3",
   "version": "3.6.5"
  }
 },
 "nbformat": 4,
 "nbformat_minor": 2
}
